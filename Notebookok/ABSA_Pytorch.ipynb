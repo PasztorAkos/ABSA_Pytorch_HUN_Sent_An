{
  "nbformat": 4,
  "nbformat_minor": 0,
  "metadata": {
    "colab": {
      "name": "ABSA-Pytorch.ipynb",
      "provenance": []
    },
    "kernelspec": {
      "name": "python3",
      "display_name": "Python 3"
    },
    "language_info": {
      "name": "python"
    }
  },
  "cells": [
    {
      "cell_type": "code",
      "metadata": {
        "id": "7UVdHq0jTWL-"
      },
      "source": [
        "from google.colab import files\n",
        "uploaded = files.upload()"
      ],
      "execution_count": null,
      "outputs": []
    },
    {
      "cell_type": "code",
      "metadata": {
        "id": "ez4ISIPBPxJO"
      },
      "source": [
        "import io\n",
        "import pandas as pd\n",
        "df = pd.read_csv(io.BytesIO(uploaded['OpinHuBank_Majority.csv']), sep=';')"
      ],
      "execution_count": null,
      "outputs": []
    },
    {
      "cell_type": "markdown",
      "source": [
        "Klónozás után train.py, dependancy_graph.py, data_utils.py fileokat felül kell írni és utána már lehet is futtatni a hubertet"
      ],
      "metadata": {
        "id": "Av-N2QfEHbLR"
      }
    },
    {
      "cell_type": "code",
      "metadata": {
        "id": "W4TqivP3PxLu"
      },
      "source": [
        "!git clone https://github.com/songyouwei/ABSA-PyTorch.git"
      ],
      "execution_count": null,
      "outputs": []
    },
    {
      "cell_type": "code",
      "metadata": {
        "id": "6DtFFEFwPxOo"
      },
      "source": [
        "!pip install -r /content/ABSA-PyTorch/requirements_rtx30.txt"
      ],
      "execution_count": null,
      "outputs": []
    },
    {
      "cell_type": "markdown",
      "metadata": {
        "id": "GVaan5zuSQ7U"
      },
      "source": [
        "Bert_spc futtatása a Restaurant adatbázison"
      ]
    },
    {
      "cell_type": "code",
      "metadata": {
        "id": "vaAgDY4CSG6m"
      },
      "source": [
        "!python /content/ABSA-PyTorch/train.py --model_name bert_spc --dataset restaurant"
      ],
      "execution_count": null,
      "outputs": []
    },
    {
      "cell_type": "markdown",
      "metadata": {
        "id": "e8ppYDpySmvm"
      },
      "source": [
        "Lcf_bert futtatása a twitter adatbázison"
      ]
    },
    {
      "cell_type": "code",
      "metadata": {
        "id": "cUIv6FP8SIH2"
      },
      "source": [
        "!python /content/ABSA-PyTorch/train.py --model_name spc_bert --dataset twitter"
      ],
      "execution_count": null,
      "outputs": []
    },
    {
      "cell_type": "code",
      "metadata": {
        "id": "0737B9P9PxRO",
        "colab": {
          "base_uri": "https://localhost:8080/"
        },
        "outputId": "c553cb78-3d16-412d-c1d1-1fa575a54b74"
      },
      "source": [
        "cd ABSA-PyTorch/"
      ],
      "execution_count": 4,
      "outputs": [
        {
          "output_type": "stream",
          "name": "stdout",
          "text": [
            "/content/ABSA-PyTorch\n"
          ]
        }
      ]
    },
    {
      "cell_type": "markdown",
      "metadata": {
        "id": "km2p3W4mS9qF"
      },
      "source": [
        "magyar spacy model betöltése, majd annak használata \n",
        "https://github.com/spacy-hu/spacy-hungarian-models"
      ]
    },
    {
      "cell_type": "code",
      "metadata": {
        "id": "V8AVvFf3QkL1"
      },
      "source": [
        "pip install https://github.com/oroszgy/spacy-hungarian-models/releases/download/hu_core_ud_lg-0.3.1/hu_core_ud_lg-0.3.1-py3-none-any.whl  \n"
      ],
      "execution_count": null,
      "outputs": []
    },
    {
      "cell_type": "code",
      "metadata": {
        "id": "3twCi4uxPxT_"
      },
      "source": [
        "!python /content/ABSA-PyTorch/dependency_graph.py  --dataset OpinHuBank_Test.txt"
      ],
      "execution_count": null,
      "outputs": []
    },
    {
      "cell_type": "code",
      "metadata": {
        "id": "vKGz5OGQPxW_"
      },
      "source": [
        "!python /content/ABSA-PyTorch/dependency_graph.py  --dataset OpinHuBank_Train.txt"
      ],
      "execution_count": null,
      "outputs": []
    },
    {
      "cell_type": "markdown",
      "source": [
        "Hubert magyarlánc deppel"
      ],
      "metadata": {
        "id": "hEYY3rP38lJu"
      }
    },
    {
      "cell_type": "code",
      "metadata": {
        "id": "jDU0cvf6PxZV"
      },
      "source": [
        "!python /content/ABSA-PyTorch/train.py --model_name bert_spc --dataset opinhubank --max_seq_len 120"
      ],
      "execution_count": null,
      "outputs": []
    },
    {
      "cell_type": "code",
      "metadata": {
        "id": "joJI7DnvPxcl"
      },
      "source": [
        ""
      ],
      "execution_count": null,
      "outputs": []
    },
    {
      "cell_type": "code",
      "metadata": {
        "id": "4kVe0Ug-Pxfn"
      },
      "source": [
        ""
      ],
      "execution_count": null,
      "outputs": []
    },
    {
      "cell_type": "code",
      "metadata": {
        "id": "Gdo0YiddPxiV"
      },
      "source": [
        ""
      ],
      "execution_count": null,
      "outputs": []
    },
    {
      "cell_type": "code",
      "metadata": {
        "id": "tbGZKRA_PxlP"
      },
      "source": [
        ""
      ],
      "execution_count": null,
      "outputs": []
    },
    {
      "cell_type": "code",
      "metadata": {
        "id": "8w8A8qEFPxn_"
      },
      "source": [
        ""
      ],
      "execution_count": null,
      "outputs": []
    }
  ]
}